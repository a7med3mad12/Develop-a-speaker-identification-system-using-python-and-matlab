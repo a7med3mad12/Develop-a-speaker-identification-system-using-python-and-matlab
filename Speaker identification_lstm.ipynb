{
 "cells": [
  {
   "cell_type": "code",
   "execution_count": 1,
   "metadata": {},
   "outputs": [],
   "source": [
    "import glob\n",
    "import numpy as np\n",
    "import random\n",
    "import librosa\n",
    "from sklearn.model_selection import train_test_split\n",
    "from sklearn.preprocessing import LabelBinarizer\n",
    "\n",
    "from sklearn.preprocessing import OneHotEncoder\n",
    "\n",
    "import keras\n",
    "from keras.layers import LSTM, Dense, Dropout, Flatten\n",
    "from keras.models import Sequential\n",
    "from keras.optimizers import Adam\n",
    "from keras.callbacks import EarlyStopping, ModelCheckpoint"
   ]
  },
  {
   "cell_type": "code",
   "execution_count": 2,
   "metadata": {},
   "outputs": [],
   "source": [
    "SEED = 2017\n",
    "DATA_DIR = 'Data/newData/' "
   ]
  },
  {
   "cell_type": "code",
   "execution_count": 3,
   "metadata": {},
   "outputs": [
    {
     "name": "stdout",
     "output_type": "stream",
     "text": [
      "# Training examples: 480\n",
      "# Validation examples: 120\n"
     ]
    }
   ],
   "source": [
    "files = glob.glob(DATA_DIR + \"*.wav\")\n",
    "X_train, X_val = train_test_split(files, test_size=0.2, random_state=SEED)\n",
    "\n",
    "print('# Training examples: {}'.format(len(X_train)))\n",
    "print('# Validation examples: {}'.format(len(X_val)))"
   ]
  },
  {
   "cell_type": "code",
   "execution_count": 4,
   "metadata": {},
   "outputs": [
    {
     "name": "stdout",
     "output_type": "stream",
     "text": [
      "['kareem', 'Hadeer', 'sawy', 'gendy', 'mohamed', 'atwa', 'Emad', 'Hady', 'kareemBrother', 'Metwally']\n"
     ]
    }
   ],
   "source": [
    "labels = []\n",
    "for i in range(len(X_train)):\n",
    "    label = X_train[i].split('/')[-1].split('_')[0]\n",
    "    if label not in labels:\n",
    "        labels.append(label)\n",
    "print(labels)\n"
   ]
  },
  {
   "cell_type": "code",
   "execution_count": 5,
   "metadata": {},
   "outputs": [],
   "source": [
    "label_binarizer = LabelBinarizer()\n",
    "label_binarizer.fit(list(set(labels)))\n",
    "\n",
    "def one_hot_encode(x): return label_binarizer.transform(x)"
   ]
  },
  {
   "cell_type": "code",
   "execution_count": 6,
   "metadata": {},
   "outputs": [],
   "source": [
    "n_features = 20\n",
    "max_length = 80\n",
    "n_classes = len(labels)"
   ]
  },
  {
   "cell_type": "code",
   "execution_count": 7,
   "metadata": {},
   "outputs": [],
   "source": [
    "def batch_generator(data, batch_size=16):\n",
    "    while 1:\n",
    "        random.shuffle(data)\n",
    "        X, y = [], []\n",
    "        for i in range(batch_size):\n",
    "            wav = data[i]\n",
    "            wave, sr = librosa.load(wav, mono=True)\n",
    "            label = wav.split('/')[-1].split('_')[0]\n",
    "            y.append(one_hot_encode([label])[-1])\n",
    "            mfcc = librosa.feature.mfcc(wave, sr)\n",
    "            mfcc = np.pad(mfcc, ((0,0), (0, max_length-\n",
    "            len(mfcc[0]))), mode='constant', constant_values=0) \n",
    "            X.append(np.array(mfcc))\n",
    "        yield np.array(X), np.array(y)\n"
   ]
  },
  {
   "cell_type": "code",
   "execution_count": 8,
   "metadata": {},
   "outputs": [],
   "source": [
    "learning_rate = 0.001\n",
    "batch_size = 64\n",
    "n_epochs = 50\n",
    "dropout = 0.5\n",
    "\n",
    "input_shape = (n_features, max_length)\n",
    "steps_per_epoch = 50\n"
   ]
  },
  {
   "cell_type": "code",
   "execution_count": 9,
   "metadata": {},
   "outputs": [],
   "source": [
    "model = Sequential()\n",
    "model.add(LSTM(256, return_sequences=True, input_shape=input_shape,\n",
    "   dropout=dropout))\n",
    "model.add(Flatten())\n",
    "model.add(Dense(128, activation='relu'))\n",
    "model.add(Dropout(dropout))\n",
    "model.add(Dense(n_classes, activation='softmax'))\n"
   ]
  },
  {
   "cell_type": "code",
   "execution_count": 10,
   "metadata": {},
   "outputs": [
    {
     "name": "stdout",
     "output_type": "stream",
     "text": [
      "Model: \"sequential\"\n",
      "_________________________________________________________________\n",
      "Layer (type)                 Output Shape              Param #   \n",
      "=================================================================\n",
      "lstm (LSTM)                  (None, 20, 256)           345088    \n",
      "_________________________________________________________________\n",
      "flatten (Flatten)            (None, 5120)              0         \n",
      "_________________________________________________________________\n",
      "dense (Dense)                (None, 128)               655488    \n",
      "_________________________________________________________________\n",
      "dropout (Dropout)            (None, 128)               0         \n",
      "_________________________________________________________________\n",
      "dense_1 (Dense)              (None, 10)                1290      \n",
      "=================================================================\n",
      "Total params: 1,001,866\n",
      "Trainable params: 1,001,866\n",
      "Non-trainable params: 0\n",
      "_________________________________________________________________\n"
     ]
    }
   ],
   "source": [
    "opt = Adam(lr=learning_rate)\n",
    "model.compile(loss='categorical_crossentropy', optimizer=opt,\n",
    "metrics=['accuracy'])\n",
    "model.summary()"
   ]
  },
  {
   "cell_type": "code",
   "execution_count": 11,
   "metadata": {},
   "outputs": [],
   "source": [
    "callbacks = [ModelCheckpoint('checkpoints/voice_recognition_best_model_{epoch:02d}.hdf5', save_best_only=True),\n",
    "            EarlyStopping(monitor='val_accuracy', patience=2)]\n"
   ]
  },
  {
   "cell_type": "code",
   "execution_count": 12,
   "metadata": {},
   "outputs": [
    {
     "name": "stdout",
     "output_type": "stream",
     "text": [
      "WARNING:tensorflow:From <ipython-input-12-72df41752408>:1: Model.fit_generator (from tensorflow.python.keras.engine.training) is deprecated and will be removed in a future version.\n",
      "Instructions for updating:\n",
      "Please use Model.fit, which supports generators.\n",
      "Epoch 1/50\n",
      "50/50 [==============================] - 255s 5s/step - loss: 0.8339 - accuracy: 0.7175 - val_loss: 0.2155 - val_accuracy: 0.9500\n",
      "Epoch 2/50\n",
      "50/50 [==============================] - 90s 2s/step - loss: 0.1432 - accuracy: 0.9563 - val_loss: 0.2379 - val_accuracy: 0.9312\n",
      "Epoch 3/50\n",
      "50/50 [==============================] - 63s 1s/step - loss: 0.0683 - accuracy: 0.9828 - val_loss: 0.0742 - val_accuracy: 0.9688\n",
      "Epoch 4/50\n",
      "50/50 [==============================] - 68s 1s/step - loss: 0.0397 - accuracy: 0.9894 - val_loss: 0.2819 - val_accuracy: 0.9438\n",
      "Epoch 5/50\n",
      "50/50 [==============================] - 126s 3s/step - loss: 0.0270 - accuracy: 0.9937 - val_loss: 0.1935 - val_accuracy: 0.9500\n"
     ]
    }
   ],
   "source": [
    "history = model.fit_generator(\n",
    "   generator=batch_generator(X_train, batch_size),\n",
    "   steps_per_epoch=steps_per_epoch,\n",
    "   epochs=n_epochs,\n",
    "   verbose=1,\n",
    "   validation_data=batch_generator(X_val, 32),\n",
    "   validation_steps=5,\n",
    "   callbacks=callbacks\n",
    " )\n"
   ]
  },
  {
   "cell_type": "code",
   "execution_count": null,
   "metadata": {},
   "outputs": [],
   "source": []
  }
 ],
 "metadata": {
  "kernelspec": {
   "display_name": "Python 3",
   "language": "python",
   "name": "python3"
  },
  "language_info": {
   "codemirror_mode": {
    "name": "ipython",
    "version": 3
   },
   "file_extension": ".py",
   "mimetype": "text/x-python",
   "name": "python",
   "nbconvert_exporter": "python",
   "pygments_lexer": "ipython3",
   "version": "3.8.5"
  }
 },
 "nbformat": 4,
 "nbformat_minor": 4
}
